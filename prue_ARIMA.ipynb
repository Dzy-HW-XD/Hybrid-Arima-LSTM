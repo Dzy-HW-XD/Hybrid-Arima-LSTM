{
 "cells": [
  {
   "cell_type": "code",
   "execution_count": 1,
   "id": "biological-portsmouth",
   "metadata": {},
   "outputs": [],
   "source": [
    "import numpy as np\n",
    "import pandas as pd\n",
    "import warnings\n",
    "import datetime\n",
    "import matplotlib.pyplot as plt\n",
    "import itertools\n",
    "import torch\n",
    "import statsmodels.api as sm\n",
    "import matplotlib.pyplot as plt\n",
    "import torch.nn.functional as F\n",
    "from statsmodels.tsa.arima_model import ARIMA\n",
    "from statsmodels.graphics.tsaplots import plot_acf\n",
    "from statsmodels.graphics.tsaplots import plot_pacf\n",
    "from statsmodels.tsa.seasonal import seasonal_decompose\n",
    "from sklearn.metrics import mean_squared_error, mean_absolute_error,mean_absolute_percentage_error,mean_squared_log_error\n",
    "from torch import nn\n",
    "%matplotlib inline\n",
    "from torch.autograd import Variable\n",
    "from torch.utils.data import Dataset,DataLoader,TensorDataset\n",
    "from sklearn.preprocessing import MinMaxScaler"
   ]
  },
  {
   "cell_type": "code",
   "execution_count": 2,
   "id": "naughty-announcement",
   "metadata": {},
   "outputs": [
    {
     "name": "stdout",
     "output_type": "stream",
     "text": [
      "            date   open    high      low  close   volume Name\n",
      "0     2013-02-08  46.52  46.895  46.4600  46.89  1232802  ABC\n",
      "1     2013-02-11  46.85  47.000  46.5000  46.76  1115888  ABC\n",
      "2     2013-02-12  46.70  47.050  46.6000  46.96  1318773  ABC\n",
      "3     2013-02-13  46.74  46.900  46.6000  46.64  2645247  ABC\n",
      "4     2013-02-14  46.67  46.990  46.6000  46.77  1941879  ABC\n",
      "...          ...    ...     ...      ...    ...      ...  ...\n",
      "1254  2018-02-01  97.74  99.810  95.7300  99.29  2786798  ABC\n",
      "1255  2018-02-02  99.09  99.090  95.9100  96.02  1660267  ABC\n",
      "1256  2018-02-05  95.62  96.520  91.6900  91.90  2278534  ABC\n",
      "1257  2018-02-06  92.58  93.370  86.9403  91.54  4574997  ABC\n",
      "1258  2018-02-07  91.60  95.340  91.1000  94.22  2509484  ABC\n",
      "\n",
      "[1259 rows x 7 columns]\n"
     ]
    }
   ],
   "source": [
    "# data processing For ARIMA\n",
    "raw_data = pd.read_csv('data/ABC_data.csv')\n",
    "print(raw_data)\n",
    "data_name = 'ABC_prue_ARIMA'\n",
    "section_name = 'ABC'\n",
    "train_len = 1000\n",
    "# training and test set for ARIMA\n",
    "ARIMA_Train = raw_data.loc[:,['close']][0:train_len]\n",
    "ARIMA_Test =  raw_data.loc[:,['close']][train_len:]\n",
    "ARIMA_Test_Input = raw_data.loc[:,['date']][train_len:]"
   ]
  },
  {
   "cell_type": "code",
   "execution_count": 3,
   "id": "banned-torture",
   "metadata": {},
   "outputs": [
    {
     "data": {
      "text/plain": [
       "[<matplotlib.lines.Line2D at 0x7fedce372e50>]"
      ]
     },
     "execution_count": 3,
     "metadata": {},
     "output_type": "execute_result"
    },
    {
     "data": {
      "image/png": "[encoded data removed]",
      "text/plain": [
       "<Figure size 432x288 with 1 Axes>"
      ]
     },
     "metadata": {
      "needs_background": "light"
     },
     "output_type": "display_data"
    }
   ],
   "source": [
    "ARIMA_mean_log = np.log(raw_data.loc[:,['close']])\n",
    "plt.plot(ARIMA_Train.iloc[:100])"
   ]
  },
  {
   "cell_type": "code",
   "execution_count": 4,
   "id": "inappropriate-privacy",
   "metadata": {},
   "outputs": [],
   "source": [
    "# sp500 (7,1,1)  ABC (7,1,2)  AAL(6,1,0)\n",
    "order = (7,1,1)"
   ]
  },
  {
   "cell_type": "code",
   "execution_count": 5,
   "id": "dated-notification",
   "metadata": {},
   "outputs": [
    {
     "name": "stderr",
     "output_type": "stream",
     "text": [
      "/usr/miniconda3/envs/nlu_cw2/lib/python3.7/site-packages/statsmodels/tsa/arima_model.py:472: FutureWarning: \n",
      "statsmodels.tsa.arima_model.ARMA and statsmodels.tsa.arima_model.ARIMA have\n",
      "been deprecated in favor of statsmodels.tsa.arima.model.ARIMA (note the .\n",
      "between arima and model) and\n",
      "statsmodels.tsa.SARIMAX. These will be removed after the 0.12 release.\n",
      "\n",
      "statsmodels.tsa.arima.model.ARIMA makes use of the statespace framework and\n",
      "is both well tested and maintained.\n",
      "\n",
      "To silence this warning and continue using ARMA and ARIMA until they are\n",
      "removed, use:\n",
      "\n",
      "import warnings\n",
      "warnings.filterwarnings('ignore', 'statsmodels.tsa.arima_model.ARMA',\n",
      "                        FutureWarning)\n",
      "warnings.filterwarnings('ignore', 'statsmodels.tsa.arima_model.ARIMA',\n",
      "                        FutureWarning)\n",
      "\n",
      "  warnings.warn(ARIMA_DEPRECATION_WARN, FutureWarning)\n",
      "/usr/miniconda3/envs/nlu_cw2/lib/python3.7/site-packages/statsmodels/tsa/arima_model.py:472: FutureWarning: \n",
      "statsmodels.tsa.arima_model.ARMA and statsmodels.tsa.arima_model.ARIMA have\n",
      "been deprecated in favor of statsmodels.tsa.arima.model.ARIMA (note the .\n",
      "between arima and model) and\n",
      "statsmodels.tsa.SARIMAX. These will be removed after the 0.12 release.\n",
      "\n",
      "statsmodels.tsa.arima.model.ARIMA makes use of the statespace framework and\n",
      "is both well tested and maintained.\n",
      "\n",
      "To silence this warning and continue using ARMA and ARIMA until they are\n",
      "removed, use:\n",
      "\n",
      "import warnings\n",
      "warnings.filterwarnings('ignore', 'statsmodels.tsa.arima_model.ARMA',\n",
      "                        FutureWarning)\n",
      "warnings.filterwarnings('ignore', 'statsmodels.tsa.arima_model.ARIMA',\n",
      "                        FutureWarning)\n",
      "\n",
      "  warnings.warn(ARIMA_DEPRECATION_WARN, FutureWarning)\n"
     ]
    }
   ],
   "source": [
    "# fit\n",
    "model = ARIMA(ARIMA_Train, order)\n",
    "fit = model.fit()"
   ]
  },
  {
   "cell_type": "code",
   "execution_count": 6,
   "id": "wooden-ethics",
   "metadata": {},
   "outputs": [
    {
     "name": "stdout",
     "output_type": "stream",
     "text": [
      "              0\n",
      "0     46.925031\n",
      "1     46.798563\n",
      "2     46.984542\n",
      "3     46.689946\n",
      "4     46.791574\n",
      "...         ...\n",
      "1254  90.929699\n",
      "1255  90.964730\n",
      "1256  90.999761\n",
      "1257  91.034793\n",
      "1258  91.069824\n",
      "\n",
      "[1259 rows x 1 columns]\n"
     ]
    }
   ],
   "source": [
    "# predict \n",
    "preds = fit.predict(1,len(raw_data),typ='levels')\n",
    "preds_pd = preds.to_frame()\n",
    "preds_pd.index -= 1\n",
    "print(preds_pd)"
   ]
  },
  {
   "cell_type": "code",
   "execution_count": 7,
   "id": "resident-infrastructure",
   "metadata": {},
   "outputs": [
    {
     "data": {
      "image/png": "[encoded data removed]",
      "text/plain": [
       "<Figure size 720x144 with 1 Axes>"
      ]
     },
     "metadata": {
      "needs_background": "light"
     },
     "output_type": "display_data"
    }
   ],
   "source": [
    "# draw predict figure\n",
    "plt.figure(figsize=(10, 2))\n",
    "plt.title(\"Pure ARIMA model for {}\".format(section_name))\n",
    "plt.plot(preds_pd,label=\"{} predicted value\".format(data_name))\n",
    "# plt.plot(ARIMA_Train.iloc[6600:6754],label=\"request delay\")\n",
    "plt.axvline(x=train_len, c='r', linestyle='--')\n",
    "plt.plot(raw_data.iloc[1:][\"close\"],label=\"{} actual value\".format(data_name))\n",
    "plt.legend()\n",
    "plt.show()"
   ]
  },
  {
   "cell_type": "code",
   "execution_count": 8,
   "id": "infinite-share",
   "metadata": {},
   "outputs": [
    {
     "data": {
      "text/html": [
       "<div>\n",
       "<style scoped>\n",
       "    .dataframe tbody tr th:only-of-type {\n",
       "        vertical-align: middle;\n",
       "    }\n",
       "\n",
       "    .dataframe tbody tr th {\n",
       "        vertical-align: top;\n",
       "    }\n",
       "\n",
       "    .dataframe thead th {\n",
       "        text-align: right;\n",
       "    }\n",
       "</style>\n",
       "<table border=\"1\" class=\"dataframe\">\n",
       "  <thead>\n",
       "    <tr style=\"text-align: right;\">\n",
       "      <th></th>\n",
       "      <th>raw</th>\n",
       "      <th>predicted</th>\n",
       "      <th>residuals</th>\n",
       "    </tr>\n",
       "  </thead>\n",
       "  <tbody>\n",
       "    <tr>\n",
       "      <th>0</th>\n",
       "      <td>46.89</td>\n",
       "      <td>46.925031</td>\n",
       "      <td>-0.035031</td>\n",
       "    </tr>\n",
       "    <tr>\n",
       "      <th>1</th>\n",
       "      <td>46.76</td>\n",
       "      <td>46.798563</td>\n",
       "      <td>-0.038563</td>\n",
       "    </tr>\n",
       "    <tr>\n",
       "      <th>2</th>\n",
       "      <td>46.96</td>\n",
       "      <td>46.984542</td>\n",
       "      <td>-0.024542</td>\n",
       "    </tr>\n",
       "    <tr>\n",
       "      <th>3</th>\n",
       "      <td>46.64</td>\n",
       "      <td>46.689946</td>\n",
       "      <td>-0.049946</td>\n",
       "    </tr>\n",
       "    <tr>\n",
       "      <th>4</th>\n",
       "      <td>46.77</td>\n",
       "      <td>46.791574</td>\n",
       "      <td>-0.021574</td>\n",
       "    </tr>\n",
       "    <tr>\n",
       "      <th>...</th>\n",
       "      <td>...</td>\n",
       "      <td>...</td>\n",
       "      <td>...</td>\n",
       "    </tr>\n",
       "    <tr>\n",
       "      <th>1254</th>\n",
       "      <td>99.29</td>\n",
       "      <td>90.929699</td>\n",
       "      <td>8.360301</td>\n",
       "    </tr>\n",
       "    <tr>\n",
       "      <th>1255</th>\n",
       "      <td>96.02</td>\n",
       "      <td>90.964730</td>\n",
       "      <td>5.055270</td>\n",
       "    </tr>\n",
       "    <tr>\n",
       "      <th>1256</th>\n",
       "      <td>91.90</td>\n",
       "      <td>90.999761</td>\n",
       "      <td>0.900239</td>\n",
       "    </tr>\n",
       "    <tr>\n",
       "      <th>1257</th>\n",
       "      <td>91.54</td>\n",
       "      <td>91.034793</td>\n",
       "      <td>0.505207</td>\n",
       "    </tr>\n",
       "    <tr>\n",
       "      <th>1258</th>\n",
       "      <td>94.22</td>\n",
       "      <td>91.069824</td>\n",
       "      <td>3.150176</td>\n",
       "    </tr>\n",
       "  </tbody>\n",
       "</table>\n",
       "<p>1259 rows × 3 columns</p>\n",
       "</div>"
      ],
      "text/plain": [
       "        raw  predicted  residuals\n",
       "0     46.89  46.925031  -0.035031\n",
       "1     46.76  46.798563  -0.038563\n",
       "2     46.96  46.984542  -0.024542\n",
       "3     46.64  46.689946  -0.049946\n",
       "4     46.77  46.791574  -0.021574\n",
       "...     ...        ...        ...\n",
       "1254  99.29  90.929699   8.360301\n",
       "1255  96.02  90.964730   5.055270\n",
       "1256  91.90  90.999761   0.900239\n",
       "1257  91.54  91.034793   0.505207\n",
       "1258  94.22  91.069824   3.150176\n",
       "\n",
       "[1259 rows x 3 columns]"
      ]
     },
     "execution_count": 8,
     "metadata": {},
     "output_type": "execute_result"
    }
   ],
   "source": [
    "ARIMA_Result =  pd.DataFrame(columns=['raw', 'predicted', 'residuals'])\n",
    "ARIMA_Result['raw'] = raw_data['close']\n",
    "ARIMA_Result['predicted'] = preds_pd\n",
    "ARIMA_Result['residuals'] = ARIMA_Result['raw'] - ARIMA_Result['predicted']\n",
    "# ARIMA_Result.to_csv('residual_result/{}_residual.csv'.format(data_name))\n",
    "ARIMA_Result"
   ]
  },
  {
   "cell_type": "code",
   "execution_count": 9,
   "id": "artistic-seventh",
   "metadata": {},
   "outputs": [
    {
     "name": "stdout",
     "output_type": "stream",
     "text": [
      "X_test MSE: 53.502210263529705\n",
      "X_test MAE: 6.610008197490209\n",
      "X_test MAPE:7.618422787783974%\n",
      "X_test RMSLE: 0.08330458489271478\n",
      "X_test RMSE: 7.314520508107808\n"
     ]
    }
   ],
   "source": [
    "mse = mean_squared_error(ARIMA_Result['raw'][train_len:], ARIMA_Result['predicted'][train_len:])   # 5500  \n",
    "mae = mean_absolute_error(ARIMA_Result['raw'][train_len:], ARIMA_Result['predicted'][train_len:])\n",
    "mape = mean_absolute_percentage_error(ARIMA_Result['raw'][train_len:], ARIMA_Result['predicted'][train_len:])*100\n",
    "rmsle = np.sqrt(mean_squared_log_error(ARIMA_Result['raw'][train_len:], ARIMA_Result['predicted'][train_len:]))\n",
    "rmse = np.sqrt(mse)\n",
    "\n",
    "print(f'X_test MSE: {mse}')\n",
    "print(f'X_test MAE: {mae}')\n",
    "print('X_test MAPE:{}%'.format(mape))\n",
    "print(f'X_test RMSLE: {rmsle}')\n",
    "print(f'X_test RMSE: {rmse}')"
   ]
  },
  {
   "cell_type": "code",
   "execution_count": null,
   "id": "automatic-transport",
   "metadata": {},
   "outputs": [],
   "source": []
  }
 ],
 "metadata": {
  "kernelspec": {
   "display_name": "Python 3",
   "language": "python",
   "name": "python3"
  },
  "language_info": {
   "codemirror_mode": {
    "name": "ipython",
    "version": 3
   },
   "file_extension": ".py",
   "mimetype": "text/x-python",
   "name": "python",
   "nbconvert_exporter": "python",
   "pygments_lexer": "ipython3",
   "version": "3.7.9"
  }
 },
 "nbformat": 4,
 "nbformat_minor": 5
}
