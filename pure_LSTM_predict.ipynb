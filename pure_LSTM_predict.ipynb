{
 "cells": [
  {
   "cell_type": "code",
   "execution_count": 1,
   "id": "controlled-secondary",
   "metadata": {},
   "outputs": [],
   "source": [
    "import numpy as np\n",
    "import pandas as pd\n",
    "import warnings\n",
    "import datetime\n",
    "import matplotlib.pyplot as plt\n",
    "import itertools\n",
    "import torch\n",
    "import statsmodels.api as sm\n",
    "import matplotlib.pyplot as plt\n",
    "import torch.nn.functional as F\n",
    "from statsmodels.tsa.arima_model import ARIMA\n",
    "from statsmodels.graphics.tsaplots import plot_acf\n",
    "from statsmodels.graphics.tsaplots import plot_pacf\n",
    "from statsmodels.tsa.seasonal import seasonal_decompose\n",
    "from sklearn.metrics import mean_squared_error, mean_absolute_error,mean_absolute_percentage_error,mean_squared_log_error\n",
    "from torch import nn\n",
    "%matplotlib inline\n",
    "from torch.autograd import Variable\n",
    "from torch.utils.data import Dataset,DataLoader,TensorDataset\n",
    "from sklearn.preprocessing import MinMaxScaler"
   ]
  },
  {
   "cell_type": "code",
   "execution_count": 2,
   "id": "extended-operation",
   "metadata": {},
   "outputs": [
    {
     "name": "stdout",
     "output_type": "stream",
     "text": [
      "            date   open    high      low  close   volume Name\n",
      "0     2013-02-08  46.52  46.895  46.4600  46.89  1232802  ABC\n",
      "1     2013-02-11  46.85  47.000  46.5000  46.76  1115888  ABC\n",
      "2     2013-02-12  46.70  47.050  46.6000  46.96  1318773  ABC\n",
      "3     2013-02-13  46.74  46.900  46.6000  46.64  2645247  ABC\n",
      "4     2013-02-14  46.67  46.990  46.6000  46.77  1941879  ABC\n",
      "...          ...    ...     ...      ...    ...      ...  ...\n",
      "1254  2018-02-01  97.74  99.810  95.7300  99.29  2786798  ABC\n",
      "1255  2018-02-02  99.09  99.090  95.9100  96.02  1660267  ABC\n",
      "1256  2018-02-05  95.62  96.520  91.6900  91.90  2278534  ABC\n",
      "1257  2018-02-06  92.58  93.370  86.9403  91.54  4574997  ABC\n",
      "1258  2018-02-07  91.60  95.340  91.1000  94.22  2509484  ABC\n",
      "\n",
      "[1259 rows x 7 columns]\n"
     ]
    }
   ],
   "source": [
    "# data processing For ARIMA\n",
    "raw_data = pd.read_csv('data/ABC_data.csv')\n",
    "print(raw_data)\n",
    "data_name = 'ABC_pure'\n",
    "train_len = 1000\n",
    "# training and test set for ARIMA\n",
    "ARIMA_Train = raw_data.loc[:,['close']][0:train_len]\n",
    "ARIMA_Test =  raw_data.loc[:,['close']][train_len:]\n",
    "ARIMA_Test_Input = raw_data.loc[:,['date']][train_len:]"
   ]
  },
  {
   "cell_type": "code",
   "execution_count": 3,
   "id": "handed-broadway",
   "metadata": {},
   "outputs": [
    {
     "data": {
      "text/plain": [
       "[<matplotlib.lines.Line2D at 0x7f2b4b994450>]"
      ]
     },
     "execution_count": 3,
     "metadata": {},
     "output_type": "execute_result"
    },
    {
     "data": {
      "image/png": "[encoded data removed]",
      "text/plain": [
       "<Figure size 432x288 with 1 Axes>"
      ]
     },
     "metadata": {
      "needs_background": "light"
     },
     "output_type": "display_data"
    }
   ],
   "source": [
    "ARIMA_mean_log = np.log(raw_data.loc[:,['close']])\n",
    "plt.plot(ARIMA_Train.iloc[:100])"
   ]
  },
  {
   "cell_type": "code",
   "execution_count": 4,
   "id": "soviet-merit",
   "metadata": {},
   "outputs": [
    {
     "name": "stdout",
     "output_type": "stream",
     "text": [
      "1250\n",
      "250\n",
      "tensor([[0.0102],\n",
      "        [0.0084],\n",
      "        [0.0113],\n",
      "        [0.0066],\n",
      "        [0.0085],\n",
      "        [0.0061],\n",
      "        [0.0150],\n",
      "        [0.0062]]) tensor([0.0043])\n",
      "tensor([[0.0084],\n",
      "        [0.0113],\n",
      "        [0.0066],\n",
      "        [0.0085],\n",
      "        [0.0061],\n",
      "        [0.0150],\n",
      "        [0.0062],\n",
      "        [0.0043]]) tensor([0.0111])\n"
     ]
    }
   ],
   "source": [
    "ARIMA_close_prices = raw_data['close'].values.astype(float)\n",
    "#len(sp500_close_prices)\n",
    "\n",
    "def create_sequences(data, seq_length):\n",
    "    x = []\n",
    "    y = []\n",
    "\n",
    "    for i in range(len(data)-seq_length-1):\n",
    "        _x = data[i:(i+seq_length)]\n",
    "        _y = data[i+seq_length]\n",
    "        x.append(_x)\n",
    "        y.append(_y)\n",
    "\n",
    "    return np.array(x),np.array(y)\n",
    "\n",
    "#Data normalization\n",
    "scaler = MinMaxScaler()\n",
    "training_data = scaler.fit_transform(ARIMA_close_prices.reshape(-1,1))\n",
    "\n",
    "seq_length = 8\n",
    "x, y = create_sequences(training_data, seq_length)\n",
    "\n",
    "train_size = int(0.8*train_len)\n",
    "validate_size = int(0.2*train_len)   # set by hand\n",
    "\n",
    "test_size = len(y) - train_size - validate_size\n",
    "print(len(y))\n",
    "print(test_size)\n",
    "\n",
    "dataX = torch.Tensor(np.array(x))\n",
    "dataY = torch.Tensor(np.array(y))\n",
    "\n",
    "X_train = torch.Tensor(np.array(x[0:train_size]))\n",
    "Y_train = torch.Tensor(np.array(y[0:train_size]))\n",
    "\n",
    "training_dataset = TensorDataset(X_train,Y_train)\n",
    "train_loader = DataLoader(training_dataset, num_workers=1, shuffle=True,batch_size = 64,drop_last = True)\n",
    "\n",
    "X_validate = torch.Tensor(np.array(x[train_size:train_size+validate_size]))\n",
    "Y_validate = torch.Tensor(np.array(y[train_size:train_size+validate_size]))\n",
    "\n",
    "validate_dataset = TensorDataset(X_validate,Y_validate)\n",
    "validate_loader = DataLoader(validate_dataset, num_workers=1, shuffle=True,batch_size = 64,drop_last = True)\n",
    "\n",
    "X_test = torch.Tensor(np.array(x[train_size+validate_size:len(x)]))\n",
    "Y_test = torch.Tensor(np.array(y[train_size+validate_size:len(y)]))\n",
    "print(X_train[0],Y_train[0])\n",
    "print(X_train[1],Y_train[1])"
   ]
  },
  {
   "cell_type": "code",
   "execution_count": 5,
   "id": "joint-cooper",
   "metadata": {},
   "outputs": [],
   "source": [
    "class AttnDecoder(nn.Module):\n",
    "\n",
    "    def __init__(self, code_hidden_size, hidden_size, time_step):\n",
    "        super(AttnDecoder, self).__init__()\n",
    "        self.code_hidden_size = code_hidden_size\n",
    "        self.hidden_size = hidden_size\n",
    "        self.T = time_step\n",
    "\n",
    "        self.W = nn.Linear(in_features=2 * hidden_size, out_features=code_hidden_size)\n",
    "        self.U = nn.Linear(in_features=code_hidden_size, out_features=code_hidden_size)\n",
    "        self.tanh = nn.Tanh()\n",
    "        self.V = nn.Linear(in_features=code_hidden_size, out_features=1)\n",
    "        self.lstm = nn.LSTM(input_size=1, hidden_size=self.hidden_size)\n",
    "        self.tilde = nn.Linear(in_features=self.code_hidden_size + 1, out_features=1)\n",
    "        self.fc1 = nn.Linear(in_features=code_hidden_size + hidden_size, out_features=hidden_size)\n",
    "        self.fc2 = nn.Linear(in_features=hidden_size, out_features=1)\n",
    "\n",
    "    def forward(self, encoder_output, y_seq, d , s):\n",
    "        y_seq = y_seq.transpose(0,1)  #   1*64*1 -->64*1*1\n",
    "        encoder_output = encoder_output.transpose(0,1)  # [8, 64, 16]->[64, 8, 16]\n",
    "\n",
    "        # (seq_len, batch,  hidden_size):    \n",
    "        batch_size = encoder_output.size(0)  \n",
    "#         d = self.init_variable(1, batch_size, self.hidden_size)#. [1, 64, 16]\n",
    "#         s = self.init_variable(1, batch_size, self.hidden_size)\n",
    "        \n",
    "        ct = self.init_variable(batch_size, self.hidden_size)    # [64, 16]\n",
    "        \n",
    "        for t in range(self.T):\n",
    "            # batch_size * time_step * (encoder_hidden_size + decoder_hidden_size)\n",
    "            # [time_step, 64, 16] ->[64 , tstep, 16] \n",
    "          \n",
    "            h = encoder_output  # [64, 8, 16]\n",
    "            d_s = torch.cat((self.embedding_hidden(d), self.embedding_hidden(s)), 2)    # [64 , 1, 16*2]\n",
    "            z1 = self.W(d_s)  # [64 ,1, 16*2]-> [64 , 1, 16]\n",
    "            z2 = self.U(h)  # [64, 8, 16]->[64, 8, 16]\n",
    "            x = z1 + z2  # [64, 1, 16] + [64, 8, 16] = [64, 8, 16]\n",
    "            z3 = self.V(self.tanh(x))   #   [64, 8, 16]->[64, 8, 1]\n",
    "\n",
    "            beta_t = F.softmax(z3.view(batch_size, -1), dim=1)\n",
    "            # yc 64*1*1\n",
    "            # h [64, 8, 16]\n",
    "\n",
    "            # [64, 1, 8] * [64, 8, 16] = [64, 1, 16] -> [64, 16]   batch_size * encoder_hidden_size\n",
    "            ct = torch.bmm(beta_t.unsqueeze(1), h).squeeze(1)  # [64, 16]\n",
    "            \n",
    "            y_past = y_seq[:,t,:] # [64, 1]\n",
    "            yc = torch.cat((y_past, ct), dim=1)  \n",
    "            y_tilde = self.tilde(yc)\n",
    "            _, states = self.lstm(y_tilde.unsqueeze(0), (d, s))    # [1, 64, 1]  [1, 64, 16]\n",
    "            d = states[0]\n",
    "            \n",
    "        y_res = self.fc2(self.fc1(torch.cat((d.squeeze(0), ct), dim=1)))\n",
    "        return y_res\n",
    "\n",
    "    def init_variable(self, *args):\n",
    "        zero_tensor = torch.zeros(args)\n",
    "        if torch.cuda.is_available():\n",
    "            zero_tensor = zero_tensor.cuda()\n",
    "        return Variable(zero_tensor)\n",
    "\n",
    "    def embedding_hidden(self, x):\n",
    "        return x.repeat(self.T, 1, 1).permute(1, 0, 2)\n",
    "\n",
    "    \n",
    "class Encoder(nn.Module):\n",
    "    \n",
    "    def __init__(self, input_size, hidden_size,num_layers):\n",
    "        super().__init__()\n",
    "        \n",
    "        self.input_size = input_size\n",
    "        self.hidden_size = hidden_size\n",
    "        self.num_layers = num_layers\n",
    "\n",
    "        self.lstm = nn.LSTM(input_size, hidden_size,num_layers)\n",
    "        \n",
    "    def forward(self, x):\n",
    "\n",
    "        \n",
    "        # Propagate input through LSTM\n",
    "      \n",
    "        output, (hidden_out, cell_out) = self.lstm(x)\n",
    "        \n",
    "        return output, (hidden_out, cell_out)\n",
    "    \n",
    "    \n",
    "class Decoder(nn.Module):\n",
    "    \n",
    "    def __init__(self, input_size, hidden_size,num_layers):\n",
    "        super().__init__()\n",
    "        \n",
    "        self.input_size = input_size\n",
    "        self.hidden_size = hidden_size\n",
    "        self.num_layers = num_layers\n",
    "  \n",
    "        self.lstm = nn.LSTM(input_size, hidden_size,num_layers)\n",
    "        \n",
    "        \n",
    "    def forward(self,x,hidden,cell):\n",
    "        \n",
    "        \n",
    "     \n",
    "        output, (hidden_out, cell_out) = self.lstm(x, (hidden, cell))\n",
    "        \n",
    "        return output, (hidden_out, cell_out)\n",
    "\n",
    "class Seq2Seq(nn.Module):\n",
    "    def __init__(self,input_size,hidden_size,num_layers,out_dims,attention_flag = False):\n",
    "        super().__init__()\n",
    "        \n",
    "        self.encoder = Encoder(input_size,hidden_size,num_layers)\n",
    "        if attention_flag == True:\n",
    "            self.decoder = AttnDecoder(hidden_size, hidden_size, 1)\n",
    "        if attention_flag == False:\n",
    "            self.decoder = Decoder(input_size,hidden_size,num_layers)\n",
    "\n",
    "        self.fc = nn.Linear(hidden_size, out_dims)\n",
    "        \n",
    "        \n",
    "    def forward(self, enc_input, dec_input):\n",
    "        \n",
    "        encoder_output,(h_out,c_out) = self.encoder(enc_input)  # torch.Size([64, 8, 1])\n",
    "\n",
    "        #dec_input [64, 1, 1]     \n",
    "        # h_out  [1, 64, 16]\n",
    "        \n",
    "        if attention_flag == True:\n",
    "            y_res = self.decoder(encoder_output, dec_input,h_out,c_out)\n",
    "        if attention_flag == False:\n",
    "            _, (decoder_h_out, _) = self.decoder(dec_input,h_out,c_out)\n",
    "            y_res = self.fc(decoder_h_out)\n",
    "\n",
    "       \n",
    "        return y_res"
   ]
  },
  {
   "cell_type": "code",
   "execution_count": 6,
   "id": "blind-lighting",
   "metadata": {},
   "outputs": [
    {
     "data": {
      "text/plain": [
       "Seq2Seq(\n",
       "  (encoder): Encoder(\n",
       "    (lstm): LSTM(1, 32)\n",
       "  )\n",
       "  (decoder): Decoder(\n",
       "    (lstm): LSTM(1, 32)\n",
       "  )\n",
       "  (fc): Linear(in_features=32, out_features=1, bias=True)\n",
       ")"
      ]
     },
     "execution_count": 6,
     "metadata": {},
     "output_type": "execute_result"
    }
   ],
   "source": [
    "num_epochs = 50\n",
    "learning_rate = 0.005\n",
    "input_dim = 1\n",
    "hidden_size = 32\n",
    "num_layers = 1\n",
    "output_dim = 1\n",
    "output_length = 1\n",
    "attention_flag = False\n",
    "\n",
    "model = Seq2Seq(input_dim,hidden_size,num_layers,output_dim,attention_flag)\n",
    "\n",
    "#model = simpleLSTM(num_classes, input_size, hidden_size, num_layers)\n",
    "# model = Seq2Seq_model(input_dim, hidden_size,num_layers)\n",
    "criterion = torch.nn.MSELoss()    # mean-squared error\n",
    "optimizer = torch.optim.Adam(model.parameters(), lr=learning_rate)\n",
    "model"
   ]
  },
  {
   "cell_type": "code",
   "execution_count": 7,
   "id": "nuclear-founder",
   "metadata": {},
   "outputs": [
    {
     "name": "stderr",
     "output_type": "stream",
     "text": [
      "/usr/miniconda3/envs/nlu_cw2/lib/python3.7/site-packages/torch/nn/modules/loss.py:446: UserWarning: Using a target size (torch.Size([64, 1])) that is different to the input size (torch.Size([1, 64, 1])). This will likely lead to incorrect results due to broadcasting. Please ensure they have the same size.\n",
      "  return F.mse_loss(input, target, reduction=self.reduction)\n"
     ]
    },
    {
     "name": "stdout",
     "output_type": "stream",
     "text": [
      "Epoch: 0, train_loss: 0.07171,validate_loss: 0.01260\n",
      "Epoch: 1, train_loss: 0.03158,validate_loss: 0.00488\n",
      "Epoch: 2, train_loss: 0.00614,validate_loss: 0.00297\n",
      "Epoch: 3, train_loss: 0.00352,validate_loss: 0.00242\n",
      "Epoch: 4, train_loss: 0.00210,validate_loss: 0.00226\n",
      "Epoch: 5, train_loss: 0.00118,validate_loss: 0.00146\n",
      "Epoch: 6, train_loss: 0.00082,validate_loss: 0.00189\n",
      "Epoch: 7, train_loss: 0.00147,validate_loss: 0.00115\n",
      "Epoch: 8, train_loss: 0.00088,validate_loss: 0.00144\n",
      "Epoch: 9, train_loss: 0.00092,validate_loss: 0.00109\n",
      "Epoch: 10, train_loss: 0.00086,validate_loss: 0.00156\n",
      "Epoch: 11, train_loss: 0.00067,validate_loss: 0.00145\n",
      "Epoch: 12, train_loss: 0.00057,validate_loss: 0.00144\n",
      "Epoch: 13, train_loss: 0.00033,validate_loss: 0.00098\n",
      "Epoch: 14, train_loss: 0.00084,validate_loss: 0.00143\n",
      "Epoch: 15, train_loss: 0.00059,validate_loss: 0.00113\n",
      "Epoch: 16, train_loss: 0.00044,validate_loss: 0.00085\n",
      "Epoch: 17, train_loss: 0.00056,validate_loss: 0.00118\n",
      "Epoch: 18, train_loss: 0.00049,validate_loss: 0.00159\n",
      "Epoch: 19, train_loss: 0.00036,validate_loss: 0.00118\n",
      "Epoch: 20, train_loss: 0.00061,validate_loss: 0.00175\n",
      "Epoch: 21, train_loss: 0.00031,validate_loss: 0.00125\n",
      "Epoch: 22, train_loss: 0.00079,validate_loss: 0.00128\n",
      "Epoch: 23, train_loss: 0.00046,validate_loss: 0.00101\n",
      "Epoch: 24, train_loss: 0.00064,validate_loss: 0.00144\n",
      "Epoch: 25, train_loss: 0.00065,validate_loss: 0.00178\n",
      "Epoch: 26, train_loss: 0.00059,validate_loss: 0.00155\n",
      "Epoch: 27, train_loss: 0.00069,validate_loss: 0.00098\n",
      "Epoch: 28, train_loss: 0.00027,validate_loss: 0.00082\n",
      "Epoch: 29, train_loss: 0.00034,validate_loss: 0.00109\n",
      "Epoch: 30, train_loss: 0.00076,validate_loss: 0.00114\n",
      "Epoch: 31, train_loss: 0.00091,validate_loss: 0.00120\n",
      "Epoch: 32, train_loss: 0.00033,validate_loss: 0.00071\n",
      "Epoch: 33, train_loss: 0.00069,validate_loss: 0.00137\n",
      "Epoch: 34, train_loss: 0.00062,validate_loss: 0.00066\n",
      "Epoch: 35, train_loss: 0.00062,validate_loss: 0.00124\n",
      "Epoch: 36, train_loss: 0.00060,validate_loss: 0.00090\n",
      "Epoch: 37, train_loss: 0.00050,validate_loss: 0.00073\n",
      "Epoch: 38, train_loss: 0.00078,validate_loss: 0.00062\n",
      "Epoch: 39, train_loss: 0.00039,validate_loss: 0.00098\n",
      "Epoch: 40, train_loss: 0.00051,validate_loss: 0.00110\n",
      "Epoch: 41, train_loss: 0.00052,validate_loss: 0.00107\n",
      "Epoch: 42, train_loss: 0.00045,validate_loss: 0.00075\n",
      "Epoch: 43, train_loss: 0.00025,validate_loss: 0.00052\n",
      "Epoch: 44, train_loss: 0.00024,validate_loss: 0.00064\n",
      "Epoch: 45, train_loss: 0.00027,validate_loss: 0.00113\n",
      "Epoch: 46, train_loss: 0.00026,validate_loss: 0.00113\n",
      "Epoch: 47, train_loss: 0.00040,validate_loss: 0.00082\n",
      "Epoch: 48, train_loss: 0.00034,validate_loss: 0.00083\n",
      "Epoch: 49, train_loss: 0.00027,validate_loss: 0.00084\n"
     ]
    }
   ],
   "source": [
    "# Train the model\n",
    "for epoch in range(num_epochs):\n",
    "    for data in train_loader:\n",
    "        X_train,Y_train = data\n",
    "        Y_train = Y_train.unsqueeze(0)\n",
    "\n",
    "        model.train()\n",
    "        # decoder 的输入\n",
    "        decoder_input = torch.zeros(64,1,1).transpose(0,1)\n",
    "\n",
    "        #decoder_input = X_train[:,-1,:].unsqueeze(1)\n",
    "        train_pred = model(X_train.transpose(0,1), decoder_input)\n",
    "        \n",
    "        # obtain the loss function\n",
    "        train_loss = criterion(train_pred, Y_train)\n",
    "        train_loss.backward(retain_graph=True) #backpropagation\n",
    "        optimizer.step()\n",
    "        optimizer.zero_grad()\n",
    "\n",
    "        model.eval()\n",
    "        for valdiate_data in validate_loader:\n",
    "            X_validate,Y_validate = valdiate_data\n",
    "            #decoder_input = X_validate[:,-1,:].unsqueeze(1)\n",
    "            validate_pred =  model(X_validate.transpose(0,1),decoder_input)\n",
    "            validate_loss = criterion(validate_pred,Y_validate)\n",
    "\n",
    "    if epoch % 1 == 0:\n",
    "        print(\"Epoch: %d, train_loss: %1.5f,validate_loss: %1.5f\" % (epoch, train_loss,validate_loss))"
   ]
  },
  {
   "cell_type": "code",
   "execution_count": 8,
   "id": "great-laugh",
   "metadata": {},
   "outputs": [],
   "source": [
    "# save model\n",
    "save_path = 'models/{}_lstm_model.zip'.format(data_name)\n",
    "torch.save(model, save_path)"
   ]
  },
  {
   "cell_type": "code",
   "execution_count": 9,
   "id": "activated-equipment",
   "metadata": {},
   "outputs": [
    {
     "name": "stdout",
     "output_type": "stream",
     "text": [
      "1250\n"
     ]
    },
    {
     "data": {
      "image/png": "[encoded data removed]",
      "text/plain": [
       "<Figure size 720x144 with 1 Axes>"
      ]
     },
     "metadata": {
      "needs_background": "light"
     },
     "output_type": "display_data"
    },
    {
     "name": "stdout",
     "output_type": "stream",
     "text": [
      "X_test MSE: 3.34847354888916\n",
      "X_test MAE: 1.3292784690856934\n",
      "X_test MAPE:1.5281847678124905%\n",
      "X_test RMSLE: 0.020815212279558182\n",
      "X_test RMSE: 1.8298834562301636\n"
     ]
    }
   ],
   "source": [
    "# load model\n",
    "save_path = 'models/{}_lstm_model.zip'.format(data_name)\n",
    "model = torch.load(save_path)\n",
    "model.eval()\n",
    "train_predict = model(dataX.transpose(0,1),torch.zeros(1,dataX.size(0),1))\n",
    "#print(train_predict.size(),dataY.size())\n",
    "print(len(train_predict[0]))\n",
    "train_predict = train_predict.squeeze(0)\n",
    "data_predict = train_predict.data.numpy()\n",
    "\n",
    "dataY_plot = dataY.data.numpy()\n",
    "\n",
    "data_predict = scaler.inverse_transform(data_predict)\n",
    "dataY_plot = scaler.inverse_transform(dataY_plot)\n",
    "\n",
    "plt.figure(figsize=(10, 2))\n",
    "plt.axvline(x=train_len, c='r', linestyle='--')\n",
    "\n",
    "plt.plot(dataY_plot, label = data_name + ' ' + \"LSTM actual value\")\n",
    "x = np.arange(train_len, train_len + len(raw_data)-train_len-seq_length-1)\n",
    "plt.plot(x, data_predict[train_len:],label = data_name + ' ' + \"LSTM predicted value\")\n",
    "plt.suptitle(data_name + ' ' + 'LSTM Forecasting')\n",
    "plt.legend()\n",
    "plt.show()\n",
    "\n",
    "from sklearn.metrics import mean_squared_error\n",
    "from sklearn.metrics import mean_absolute_error\n",
    "\n",
    "mse = mean_squared_error(dataY_plot[(train_size+validate_size):], data_predict[(train_size+validate_size):])   # 5500  \n",
    "mae = mean_absolute_error(dataY_plot[(train_size+validate_size):], data_predict[(train_size+validate_size):])\n",
    "mape = mean_absolute_percentage_error(dataY_plot[(train_size+validate_size):], data_predict[(train_size+validate_size):])*100\n",
    "rmsle = np.sqrt(mean_squared_log_error(dataY_plot[(train_size+validate_size):], data_predict[(train_size+validate_size):]))\n",
    "rmse = np.sqrt(mse)\n",
    "\n",
    "print(f'X_test MSE: {mse}')\n",
    "print(f'X_test MAE: {mae}')\n",
    "print('X_test MAPE:{}%'.format(mape))\n",
    "print(f'X_test RMSLE: {rmsle}')\n",
    "print(f'X_test RMSE: {rmse}')"
   ]
  },
  {
   "cell_type": "code",
   "execution_count": 10,
   "id": "dried-interest",
   "metadata": {},
   "outputs": [
    {
     "data": {
      "image/png": "[encoded data removed]",
      "text/plain": [
       "<Figure size 720x144 with 1 Axes>"
      ]
     },
     "metadata": {
      "needs_background": "light"
     },
     "output_type": "display_data"
    }
   ],
   "source": [
    "plt.figure(figsize=(10, 2))\n",
    "plt.plot(dataY_plot[(train_size+validate_size):], label = data_name + ' ' + \"actual value\")\n",
    "plt.plot(data_predict[(train_size+validate_size):], label = data_name + ' ' + \"predicted value\")\n",
    "plt.suptitle(data_name + ' ' + 'Forecasting')\n",
    "plt.legend()\n",
    "plt.show()"
   ]
  },
  {
   "cell_type": "code",
   "execution_count": null,
   "id": "understanding-limitation",
   "metadata": {},
   "outputs": [],
   "source": []
  }
 ],
 "metadata": {
  "kernelspec": {
   "display_name": "Python 3",
   "language": "python",
   "name": "python3"
  },
  "language_info": {
   "codemirror_mode": {
    "name": "ipython",
    "version": 3
   },
   "file_extension": ".py",
   "mimetype": "text/x-python",
   "name": "python",
   "nbconvert_exporter": "python",
   "pygments_lexer": "ipython3",
   "version": "3.7.9"
  }
 },
 "nbformat": 4,
 "nbformat_minor": 5
}
