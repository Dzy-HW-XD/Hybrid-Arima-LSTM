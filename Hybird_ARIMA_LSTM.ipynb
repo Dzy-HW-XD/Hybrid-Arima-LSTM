{
 "cells": [
  {
   "cell_type": "code",
   "execution_count": 1,
   "id": "marked-circus",
   "metadata": {},
   "outputs": [],
   "source": [
    "import numpy as np\n",
    "import pandas as pd\n",
    "import warnings\n",
    "import datetime\n",
    "import matplotlib.pyplot as plt\n",
    "import itertools\n",
    "import torch\n",
    "import statsmodels.api as sm\n",
    "import matplotlib.pyplot as plt\n",
    "import torch.nn.functional as F\n",
    "from statsmodels.tsa.arima_model import ARIMA\n",
    "from statsmodels.graphics.tsaplots import plot_acf\n",
    "from statsmodels.graphics.tsaplots import plot_pacf\n",
    "from statsmodels.tsa.seasonal import seasonal_decompose\n",
    "from sklearn.metrics import mean_squared_error, mean_absolute_error,mean_absolute_percentage_error,mean_squared_log_error\n",
    "from torch import nn\n",
    "%matplotlib inline\n",
    "from torch.autograd import Variable\n",
    "from torch.utils.data import Dataset,DataLoader,TensorDataset\n",
    "from sklearn.preprocessing import MinMaxScaler"
   ]
  },
  {
   "cell_type": "markdown",
   "id": "musical-robinson",
   "metadata": {},
   "source": [
    "# 1.ARIMA model"
   ]
  },
  {
   "cell_type": "code",
   "execution_count": 108,
   "id": "freelance-province",
   "metadata": {},
   "outputs": [
    {
     "name": "stdout",
     "output_type": "stream",
     "text": [
      "            date   open    high      low  close   volume Name\n",
      "0     2013-02-08  46.52  46.895  46.4600  46.89  1232802  ABC\n",
      "1     2013-02-11  46.85  47.000  46.5000  46.76  1115888  ABC\n",
      "2     2013-02-12  46.70  47.050  46.6000  46.96  1318773  ABC\n",
      "3     2013-02-13  46.74  46.900  46.6000  46.64  2645247  ABC\n",
      "4     2013-02-14  46.67  46.990  46.6000  46.77  1941879  ABC\n",
      "...          ...    ...     ...      ...    ...      ...  ...\n",
      "1254  2018-02-01  97.74  99.810  95.7300  99.29  2786798  ABC\n",
      "1255  2018-02-02  99.09  99.090  95.9100  96.02  1660267  ABC\n",
      "1256  2018-02-05  95.62  96.520  91.6900  91.90  2278534  ABC\n",
      "1257  2018-02-06  92.58  93.370  86.9403  91.54  4574997  ABC\n",
      "1258  2018-02-07  91.60  95.340  91.1000  94.22  2509484  ABC\n",
      "\n",
      "[1259 rows x 7 columns]\n"
     ]
    }
   ],
   "source": [
    "# data processing For ARIMA\n",
    "raw_data = pd.read_csv('data/ABC_data.csv')\n",
    "print(raw_data)\n",
    "data_name = 'ABC'\n",
    "attention_flag = False\n",
    "train_len = 500\n",
    "seq_length = 16\n",
    "num_epochs = 100\n",
    "# training and test set for ARIMA\n",
    "ARIMA_Train = raw_data.loc[:,['close']][0:train_len]\n",
    "ARIMA_Test =  raw_data.loc[:,['close']][train_len:]\n",
    "ARIMA_Test_Input = raw_data.loc[:,['date']][train_len:]"
   ]
  },
  {
   "cell_type": "code",
   "execution_count": 109,
   "id": "immune-continent",
   "metadata": {},
   "outputs": [
    {
     "data": {
      "text/plain": [
       "[<matplotlib.lines.Line2D at 0x7f0750e30650>]"
      ]
     },
     "execution_count": 109,
     "metadata": {},
     "output_type": "execute_result"
    },
    {
     "data": {
      "image/png": "[encoded data removed]",
      "text/plain": [
       "<Figure size 432x288 with 1 Axes>"
      ]
     },
     "metadata": {
      "needs_background": "light"
     },
     "output_type": "display_data"
    }
   ],
   "source": [
    "ARIMA_mean_log = np.log(raw_data.loc[:,['close']])\n",
    "plt.plot(ARIMA_Train.iloc[:100])"
   ]
  },
  {
   "cell_type": "code",
   "execution_count": 110,
   "id": "joined-franklin",
   "metadata": {},
   "outputs": [],
   "source": [
    "# warnings.filterwarnings(\"ignore\")\n",
    "# q_arima = d_arima = range(0, 3)\n",
    "# p_arima = range(0, 8)\n",
    "# AIC_arima = []\n",
    "# ARIMAX_model = []\n",
    "# pdqs = [(x[0], x[1], x[2]) for x in list(itertools.product(p_arima, d_arima, q_arima))]\n",
    "\n",
    "# for pdq in pdqs:\n",
    "#     try:\n",
    "#         mod = ARIMA(ARIMA_Train,order=pdq)\n",
    "\n",
    "#         results = mod.fit()\n",
    "#         print('ARIMAX{} - AIC:{}'.format(pdq, results.aic), end='\\r')\n",
    "#         AIC_arima.append(results.aic)\n",
    "#         ARIMAX_model.append([(1,1,0), pdq])\n",
    "#     except:\n",
    "#             continue"
   ]
  },
  {
   "cell_type": "code",
   "execution_count": 111,
   "id": "bridal-freedom",
   "metadata": {},
   "outputs": [],
   "source": [
    "# print('The smallest AIC is {} for model ARIMAX{}'.format(min(AIC_arima),ARIMAX_model[AIC_arima.index(min(AIC_arima))][1]))\n",
    "# order = ARIMAX_model[AIC_arima.index(min(AIC_arima))][1]"
   ]
  },
  {
   "cell_type": "code",
   "execution_count": 112,
   "id": "vanilla-season",
   "metadata": {},
   "outputs": [],
   "source": [
    "# sp500 (7,1,1)  ABC (7,1,2)  AAL(6,1,0)\n",
    "order = (7,1,1)"
   ]
  },
  {
   "cell_type": "code",
   "execution_count": 113,
   "id": "pressed-colorado",
   "metadata": {},
   "outputs": [
    {
     "name": "stderr",
     "output_type": "stream",
     "text": [
      "/usr/miniconda3/envs/nlu_cw2/lib/python3.7/site-packages/statsmodels/tsa/arima_model.py:472: FutureWarning: \n",
      "statsmodels.tsa.arima_model.ARMA and statsmodels.tsa.arima_model.ARIMA have\n",
      "been deprecated in favor of statsmodels.tsa.arima.model.ARIMA (note the .\n",
      "between arima and model) and\n",
      "statsmodels.tsa.SARIMAX. These will be removed after the 0.12 release.\n",
      "\n",
      "statsmodels.tsa.arima.model.ARIMA makes use of the statespace framework and\n",
      "is both well tested and maintained.\n",
      "\n",
      "To silence this warning and continue using ARMA and ARIMA until they are\n",
      "removed, use:\n",
      "\n",
      "import warnings\n",
      "warnings.filterwarnings('ignore', 'statsmodels.tsa.arima_model.ARMA',\n",
      "                        FutureWarning)\n",
      "warnings.filterwarnings('ignore', 'statsmodels.tsa.arima_model.ARIMA',\n",
      "                        FutureWarning)\n",
      "\n",
      "  warnings.warn(ARIMA_DEPRECATION_WARN, FutureWarning)\n",
      "/usr/miniconda3/envs/nlu_cw2/lib/python3.7/site-packages/statsmodels/tsa/arima_model.py:472: FutureWarning: \n",
      "statsmodels.tsa.arima_model.ARMA and statsmodels.tsa.arima_model.ARIMA have\n",
      "been deprecated in favor of statsmodels.tsa.arima.model.ARIMA (note the .\n",
      "between arima and model) and\n",
      "statsmodels.tsa.SARIMAX. These will be removed after the 0.12 release.\n",
      "\n",
      "statsmodels.tsa.arima.model.ARIMA makes use of the statespace framework and\n",
      "is both well tested and maintained.\n",
      "\n",
      "To silence this warning and continue using ARMA and ARIMA until they are\n",
      "removed, use:\n",
      "\n",
      "import warnings\n",
      "warnings.filterwarnings('ignore', 'statsmodels.tsa.arima_model.ARMA',\n",
      "                        FutureWarning)\n",
      "warnings.filterwarnings('ignore', 'statsmodels.tsa.arima_model.ARIMA',\n",
      "                        FutureWarning)\n",
      "\n",
      "  warnings.warn(ARIMA_DEPRECATION_WARN, FutureWarning)\n"
     ]
    }
   ],
   "source": [
    "# fit\n",
    "model = ARIMA(ARIMA_Train, order)\n",
    "fit = model.fit()"
   ]
  },
  {
   "cell_type": "code",
   "execution_count": 114,
   "id": "several-faculty",
   "metadata": {},
   "outputs": [],
   "source": [
    "# fit.summary()"
   ]
  },
  {
   "cell_type": "code",
   "execution_count": 115,
   "id": "increased-spanking",
   "metadata": {},
   "outputs": [
    {
     "name": "stdout",
     "output_type": "stream",
     "text": [
      "               0\n",
      "0      46.987237\n",
      "1      46.881590\n",
      "2      47.047565\n",
      "3      46.764615\n",
      "4      46.862711\n",
      "...          ...\n",
      "1254  169.039996\n",
      "1255  169.137233\n",
      "1256  169.234470\n",
      "1257  169.331706\n",
      "1258  169.428943\n",
      "\n",
      "[1259 rows x 1 columns]\n"
     ]
    }
   ],
   "source": [
    "# predict \n",
    "preds = fit.predict(1,len(raw_data),typ='levels')\n",
    "preds_pd = preds.to_frame()\n",
    "preds_pd.index -= 1\n",
    "print(preds_pd)"
   ]
  },
  {
   "cell_type": "code",
   "execution_count": 116,
   "id": "dried-frame",
   "metadata": {
    "scrolled": true
   },
   "outputs": [
    {
     "data": {
      "image/png": "[encoded data removed]",
      "text/plain": [
       "<Figure size 720x144 with 1 Axes>"
      ]
     },
     "metadata": {
      "needs_background": "light"
     },
     "output_type": "display_data"
    }
   ],
   "source": [
    "# draw predict figure\n",
    "plt.figure(figsize=(10, 2))\n",
    "plt.plot(preds_pd,label=\"migration time\")\n",
    "# plt.plot(ARIMA_Train.iloc[6600:6754],label=\"request delay\")\n",
    "plt.plot(raw_data.iloc[1:][\"close\"],label=\"request delay\")\n",
    "plt.legend()\n",
    "plt.show()"
   ]
  },
  {
   "cell_type": "code",
   "execution_count": 117,
   "id": "rapid-insider",
   "metadata": {},
   "outputs": [
    {
     "data": {
      "text/html": [
       "<div>\n",
       "<style scoped>\n",
       "    .dataframe tbody tr th:only-of-type {\n",
       "        vertical-align: middle;\n",
       "    }\n",
       "\n",
       "    .dataframe tbody tr th {\n",
       "        vertical-align: top;\n",
       "    }\n",
       "\n",
       "    .dataframe thead th {\n",
       "        text-align: right;\n",
       "    }\n",
       "</style>\n",
       "<table border=\"1\" class=\"dataframe\">\n",
       "  <thead>\n",
       "    <tr style=\"text-align: right;\">\n",
       "      <th></th>\n",
       "      <th>raw</th>\n",
       "      <th>predicted</th>\n",
       "      <th>residuals</th>\n",
       "    </tr>\n",
       "  </thead>\n",
       "  <tbody>\n",
       "    <tr>\n",
       "      <th>0</th>\n",
       "      <td>46.89</td>\n",
       "      <td>46.987237</td>\n",
       "      <td>-0.097237</td>\n",
       "    </tr>\n",
       "    <tr>\n",
       "      <th>1</th>\n",
       "      <td>46.76</td>\n",
       "      <td>46.881590</td>\n",
       "      <td>-0.121590</td>\n",
       "    </tr>\n",
       "    <tr>\n",
       "      <th>2</th>\n",
       "      <td>46.96</td>\n",
       "      <td>47.047565</td>\n",
       "      <td>-0.087565</td>\n",
       "    </tr>\n",
       "    <tr>\n",
       "      <th>3</th>\n",
       "      <td>46.64</td>\n",
       "      <td>46.764615</td>\n",
       "      <td>-0.124615</td>\n",
       "    </tr>\n",
       "    <tr>\n",
       "      <th>4</th>\n",
       "      <td>46.77</td>\n",
       "      <td>46.862711</td>\n",
       "      <td>-0.092711</td>\n",
       "    </tr>\n",
       "    <tr>\n",
       "      <th>...</th>\n",
       "      <td>...</td>\n",
       "      <td>...</td>\n",
       "      <td>...</td>\n",
       "    </tr>\n",
       "    <tr>\n",
       "      <th>1254</th>\n",
       "      <td>99.29</td>\n",
       "      <td>169.039996</td>\n",
       "      <td>-69.749996</td>\n",
       "    </tr>\n",
       "    <tr>\n",
       "      <th>1255</th>\n",
       "      <td>96.02</td>\n",
       "      <td>169.137233</td>\n",
       "      <td>-73.117233</td>\n",
       "    </tr>\n",
       "    <tr>\n",
       "      <th>1256</th>\n",
       "      <td>91.90</td>\n",
       "      <td>169.234470</td>\n",
       "      <td>-77.334470</td>\n",
       "    </tr>\n",
       "    <tr>\n",
       "      <th>1257</th>\n",
       "      <td>91.54</td>\n",
       "      <td>169.331706</td>\n",
       "      <td>-77.791706</td>\n",
       "    </tr>\n",
       "    <tr>\n",
       "      <th>1258</th>\n",
       "      <td>94.22</td>\n",
       "      <td>169.428943</td>\n",
       "      <td>-75.208943</td>\n",
       "    </tr>\n",
       "  </tbody>\n",
       "</table>\n",
       "<p>1259 rows × 3 columns</p>\n",
       "</div>"
      ],
      "text/plain": [
       "        raw   predicted  residuals\n",
       "0     46.89   46.987237  -0.097237\n",
       "1     46.76   46.881590  -0.121590\n",
       "2     46.96   47.047565  -0.087565\n",
       "3     46.64   46.764615  -0.124615\n",
       "4     46.77   46.862711  -0.092711\n",
       "...     ...         ...        ...\n",
       "1254  99.29  169.039996 -69.749996\n",
       "1255  96.02  169.137233 -73.117233\n",
       "1256  91.90  169.234470 -77.334470\n",
       "1257  91.54  169.331706 -77.791706\n",
       "1258  94.22  169.428943 -75.208943\n",
       "\n",
       "[1259 rows x 3 columns]"
      ]
     },
     "execution_count": 117,
     "metadata": {},
     "output_type": "execute_result"
    }
   ],
   "source": [
    "ARIMA_Result =  pd.DataFrame(columns=['raw', 'predicted', 'residuals'])\n",
    "ARIMA_Result['raw'] = raw_data['close']\n",
    "ARIMA_Result['predicted'] = preds_pd\n",
    "ARIMA_Result['residuals'] = ARIMA_Result['raw'] - ARIMA_Result['predicted']\n",
    "# ARIMA_Result.to_csv('residual_result/{}_residual.csv'.format(data_name))\n",
    "ARIMA_Result"
   ]
  },
  {
   "cell_type": "markdown",
   "id": "ahead-brown",
   "metadata": {},
   "source": [
    "# LSTM structure"
   ]
  },
  {
   "cell_type": "code",
   "execution_count": 118,
   "id": "western-cover",
   "metadata": {},
   "outputs": [
    {
     "name": "stdout",
     "output_type": "stream",
     "text": [
      "742\n",
      "242\n",
      "tensor([[0.8567],\n",
      "        [0.8598],\n",
      "        [0.8646],\n",
      "        [0.8508],\n",
      "        [0.8628],\n",
      "        [0.8788],\n",
      "        [0.8884],\n",
      "        [0.8924],\n",
      "        [0.8940],\n",
      "        [0.8935],\n",
      "        [0.8960],\n",
      "        [0.9043],\n",
      "        [0.9107],\n",
      "        [0.9118],\n",
      "        [0.9140],\n",
      "        [0.9101]]) tensor([0.9071])\n",
      "tensor([[0.8598],\n",
      "        [0.8646],\n",
      "        [0.8508],\n",
      "        [0.8628],\n",
      "        [0.8788],\n",
      "        [0.8884],\n",
      "        [0.8924],\n",
      "        [0.8940],\n",
      "        [0.8935],\n",
      "        [0.8960],\n",
      "        [0.9043],\n",
      "        [0.9107],\n",
      "        [0.9118],\n",
      "        [0.9140],\n",
      "        [0.9101],\n",
      "        [0.9071]]) tensor([0.9094])\n"
     ]
    }
   ],
   "source": [
    "LSTM_data = pd.read_csv('residual_result/{}_residual.csv'.format(data_name))\n",
    "ARIMA_close_prices = LSTM_data['residuals'][train_len:].values.astype(float)\n",
    "#len(sp500_close_prices)\n",
    "\n",
    "def create_sequences(data, seq_length):\n",
    "    x = []\n",
    "    y = []\n",
    "\n",
    "    for i in range(len(data)-seq_length-1):\n",
    "        _x = data[i:(i+seq_length)]\n",
    "        _y = data[i+seq_length]\n",
    "        x.append(_x)\n",
    "        y.append(_y)\n",
    "\n",
    "    return np.array(x),np.array(y)\n",
    "\n",
    "#Data normalization\n",
    "scaler = MinMaxScaler()\n",
    "training_data = scaler.fit_transform(ARIMA_close_prices.reshape(-1,1))\n",
    "\n",
    "x, y = create_sequences(training_data, seq_length)\n",
    "\n",
    "train_size = int(0.8*train_len)\n",
    "validate_size = int(0.2*train_len)   # set by hand\n",
    "\n",
    "test_size = len(y) - train_size - validate_size\n",
    "print(len(y))\n",
    "print(test_size)\n",
    "\n",
    "dataX = torch.Tensor(np.array(x))\n",
    "dataY = torch.Tensor(np.array(y))\n",
    "\n",
    "X_train = torch.Tensor(np.array(x[0:train_size]))\n",
    "Y_train = torch.Tensor(np.array(y[0:train_size]))\n",
    "\n",
    "training_dataset = TensorDataset(X_train,Y_train)\n",
    "train_loader = DataLoader(training_dataset, num_workers=1, shuffle=True,batch_size = 64,drop_last = True)\n",
    "\n",
    "X_validate = torch.Tensor(np.array(x[train_size:train_size+validate_size]))\n",
    "Y_validate = torch.Tensor(np.array(y[train_size:train_size+validate_size]))\n",
    "\n",
    "validate_dataset = TensorDataset(X_validate,Y_validate)\n",
    "validate_loader = DataLoader(validate_dataset, num_workers=1, shuffle=True,batch_size = 64,drop_last = True)\n",
    "\n",
    "X_test = torch.Tensor(np.array(x[train_size+validate_size:len(x)]))\n",
    "Y_test = torch.Tensor(np.array(y[train_size+validate_size:len(y)]))\n",
    "print(X_train[0],Y_train[0])\n",
    "print(X_train[1],Y_train[1])"
   ]
  },
  {
   "cell_type": "markdown",
   "id": "finished-maria",
   "metadata": {},
   "source": [
    "# Seq2Seq model"
   ]
  },
  {
   "cell_type": "code",
   "execution_count": 119,
   "id": "dangerous-friend",
   "metadata": {},
   "outputs": [],
   "source": [
    "class simpleLSTM(nn.Module):\n",
    "\n",
    "    def __init__(self, out_dims, input_dims, hidden_size, num_layers):\n",
    "        super(simpleLSTM, self).__init__()\n",
    "        \n",
    "        self.out_dims = out_dims\n",
    "        self.num_layers = num_layers\n",
    "        self.input_dims = input_dims\n",
    "        self.hidden_size = hidden_size\n",
    "        self.seq_length = seq_length\n",
    "        \n",
    "        self.lstm = nn.LSTM(input_size=input_dims, hidden_size=hidden_size,\n",
    "                            num_layers=num_layers, batch_first=True)\n",
    "        \n",
    "        self.fc = nn.Linear(hidden_size, out_dims)\n",
    "\n",
    "    def forward(self, x):\n",
    "        hidden = Variable(torch.zeros(self.num_layers, x.size(0), self.hidden_size))\n",
    "        \n",
    "        cell = Variable(torch.zeros(self.num_layers, x.size(0), self.hidden_size))\n",
    "        \n",
    "        # Propagate input through LSTM\n",
    "        ula, (h_out, _) = self.lstm(x, (hidden, cell))\n",
    "        \n",
    "        h_out = h_out.view(-1, self.hidden_size)   \n",
    "        \n",
    "        prediction = self.fc(h_out)\n",
    "        \n",
    "        return prediction\n",
    "\n",
    "class Seq2Seq_model(nn.Module):\n",
    "    def __init__(self, n_class, hidden_size,num_layers):\n",
    "        super(Seq2Seq_model, self).__init__()\n",
    "        self.n_class = n_class\n",
    "        self.hidden_size = hidden_size\n",
    "        self.num_layers = num_layers\n",
    "\n",
    "        self.encoder = nn.LSTM(n_class, hidden_size,\n",
    "                            num_layers)\n",
    "        self.decoder = nn.LSTM(n_class, hidden_size,\n",
    "                            num_layers)\n",
    "        self.fc  = nn.Linear(hidden_size, n_class)\n",
    "        \n",
    "    def forward(self, enc_input, dec_input):\n",
    "        \n",
    "        #enc_input  [64, 8, 1] \n",
    "        \n",
    "        _,(h_out,c_out) = self.encoder(enc_input)  # torch.Size([64, 8, 1])\n",
    "        \n",
    "        #dec_input [64, 1, 1]\n",
    "        \n",
    "        _, (decoder_h_out, _) = self.decoder(dec_input, (h_out,c_out))\n",
    "        #print(outputs.size())\n",
    "        decoded = self.fc(decoder_h_out)\n",
    "        return decoded\n",
    "\n",
    "class AttnDecoder(nn.Module):\n",
    "\n",
    "    def __init__(self, code_hidden_size, hidden_size, time_step):\n",
    "        super(AttnDecoder, self).__init__()\n",
    "        self.code_hidden_size = code_hidden_size\n",
    "        self.hidden_size = hidden_size\n",
    "        self.T = time_step\n",
    "\n",
    "        self.W = nn.Linear(in_features=2 * hidden_size, out_features=code_hidden_size)\n",
    "        self.U = nn.Linear(in_features=code_hidden_size, out_features=code_hidden_size)\n",
    "        self.tanh = nn.Tanh()\n",
    "        self.V = nn.Linear(in_features=code_hidden_size, out_features=1)\n",
    "        self.lstm = nn.LSTM(input_size=1, hidden_size=self.hidden_size)\n",
    "        self.tilde = nn.Linear(in_features=self.code_hidden_size + 1, out_features=1)\n",
    "        self.fc1 = nn.Linear(in_features=code_hidden_size + hidden_size, out_features=hidden_size)\n",
    "        self.fc2 = nn.Linear(in_features=hidden_size, out_features=1)\n",
    "\n",
    "    def forward(self, encoder_output, y_seq, d , s):\n",
    "        y_seq = y_seq.transpose(0,1)  #   1*64*1 -->64*1*1\n",
    "        encoder_output = encoder_output.transpose(0,1)  # [8, 64, 16]->[64, 8, 16]\n",
    "\n",
    "        # (seq_len, batch,  hidden_size):    \n",
    "        batch_size = encoder_output.size(0)  \n",
    "#         d = self.init_variable(1, batch_size, self.hidden_size)#. [1, 64, 16]\n",
    "#         s = self.init_variable(1, batch_size, self.hidden_size)\n",
    "        \n",
    "        ct = self.init_variable(batch_size, self.hidden_size)    # [64, 16]\n",
    "        \n",
    "        for t in range(self.T):\n",
    "            # batch_size * time_step * (encoder_hidden_size + decoder_hidden_size)\n",
    "            # [time_step, 64, 16] ->[64 , tstep, 16] \n",
    "          \n",
    "            h = encoder_output  # [64, 8, 16]\n",
    "            d_s = torch.cat((self.embedding_hidden(d), self.embedding_hidden(s)), 2)    # [64 , 1, 16*2]\n",
    "            z1 = self.W(d_s)  # [64 ,1, 16*2]-> [64 , 1, 16]\n",
    "            z2 = self.U(h)  # [64, 8, 16]->[64, 8, 16]\n",
    "            x = z1 + z2  # [64, 1, 16] + [64, 8, 16] = [64, 8, 16]\n",
    "            z3 = self.V(self.tanh(x))   #   [64, 8, 16]->[64, 8, 1]\n",
    "\n",
    "            beta_t = F.softmax(z3.view(batch_size, -1), dim=1)\n",
    "            # yc 64*1*1\n",
    "            # h [64, 8, 16]\n",
    "\n",
    "            # [64, 1, 8] * [64, 8, 16] = [64, 1, 16] -> [64, 16]   batch_size * encoder_hidden_size\n",
    "            ct = torch.bmm(beta_t.unsqueeze(1), h).squeeze(1)  # [64, 16]\n",
    "            \n",
    "            y_past = y_seq[:,t,:] # [64, 1]\n",
    "            yc = torch.cat((y_past, ct), dim=1)  \n",
    "            y_tilde = self.tilde(yc)\n",
    "            _, states = self.lstm(y_tilde.unsqueeze(0), (d, s))    # [1, 64, 1]  [1, 64, 16]\n",
    "            d = states[0]\n",
    "            \n",
    "        y_res = self.fc2(self.fc1(torch.cat((d.squeeze(0), ct), dim=1)))\n",
    "        return y_res\n",
    "\n",
    "    def init_variable(self, *args):\n",
    "        zero_tensor = torch.zeros(args)\n",
    "        if torch.cuda.is_available():\n",
    "            zero_tensor = zero_tensor.cuda()\n",
    "        return Variable(zero_tensor)\n",
    "\n",
    "    def embedding_hidden(self, x):\n",
    "        return x.repeat(self.T, 1, 1).permute(1, 0, 2)\n",
    "\n",
    "    \n",
    "class Encoder(nn.Module):\n",
    "    \n",
    "    def __init__(self, input_size, hidden_size,num_layers):\n",
    "        super().__init__()\n",
    "        \n",
    "        self.input_size = input_size\n",
    "        self.hidden_size = hidden_size\n",
    "        self.num_layers = num_layers\n",
    "\n",
    "        self.lstm = nn.LSTM(input_size, hidden_size,num_layers)\n",
    "        \n",
    "    def forward(self, x):\n",
    "\n",
    "        \n",
    "        # Propagate input through LSTM\n",
    "      \n",
    "        output, (hidden_out, cell_out) = self.lstm(x)\n",
    "        \n",
    "        return output, (hidden_out, cell_out)\n",
    "    \n",
    "    \n",
    "class Decoder(nn.Module):\n",
    "    \n",
    "    def __init__(self, input_size, hidden_size,num_layers):\n",
    "        super().__init__()\n",
    "        \n",
    "        self.input_size = input_size\n",
    "        self.hidden_size = hidden_size\n",
    "        self.num_layers = num_layers\n",
    "  \n",
    "        self.lstm = nn.LSTM(input_size, hidden_size,num_layers)\n",
    "        \n",
    "        \n",
    "    def forward(self,x,hidden,cell):\n",
    "        \n",
    "        \n",
    "     \n",
    "        output, (hidden_out, cell_out) = self.lstm(x, (hidden, cell))\n",
    "        \n",
    "        return output, (hidden_out, cell_out)\n",
    "\n",
    "class Seq2Seq(nn.Module):\n",
    "    def __init__(self,input_size,hidden_size,num_layers,out_dims,attention_flag = False):\n",
    "        super().__init__()\n",
    "        \n",
    "        self.encoder = Encoder(input_size,hidden_size,num_layers)\n",
    "        if attention_flag == True:\n",
    "            self.decoder = AttnDecoder(hidden_size, hidden_size, 1)\n",
    "        if attention_flag == False:\n",
    "            self.decoder = Decoder(input_size,hidden_size,num_layers)\n",
    "\n",
    "        self.fc = nn.Linear(hidden_size, out_dims)\n",
    "        \n",
    "        \n",
    "    def forward(self, enc_input, dec_input):\n",
    "        \n",
    "        encoder_output,(h_out,c_out) = self.encoder(enc_input)  # torch.Size([64, 8, 1])\n",
    "\n",
    "        #dec_input [64, 1, 1]     \n",
    "        # h_out  [1, 64, 16]\n",
    "        \n",
    "        if attention_flag == True:\n",
    "            y_res = self.decoder(encoder_output, dec_input,h_out,c_out)\n",
    "        if attention_flag == False:\n",
    "            _, (decoder_h_out, _) = self.decoder(dec_input,h_out,c_out)\n",
    "            y_res = self.fc(decoder_h_out)\n",
    "\n",
    "       \n",
    "        return y_res"
   ]
  },
  {
   "cell_type": "markdown",
   "id": "impressive-africa",
   "metadata": {},
   "source": [
    "# Training"
   ]
  },
  {
   "cell_type": "code",
   "execution_count": 120,
   "id": "scenic-checkout",
   "metadata": {},
   "outputs": [
    {
     "data": {
      "text/plain": [
       "Seq2Seq(\n",
       "  (encoder): Encoder(\n",
       "    (lstm): LSTM(1, 32)\n",
       "  )\n",
       "  (decoder): Decoder(\n",
       "    (lstm): LSTM(1, 32)\n",
       "  )\n",
       "  (fc): Linear(in_features=32, out_features=1, bias=True)\n",
       ")"
      ]
     },
     "execution_count": 120,
     "metadata": {},
     "output_type": "execute_result"
    }
   ],
   "source": [
    "learning_rate = 0.005\n",
    "input_dim = 1\n",
    "hidden_size = 32\n",
    "num_layers = 1\n",
    "output_dim = 1\n",
    "output_length = 1\n",
    "\n",
    "model = Seq2Seq(input_dim,hidden_size,num_layers,output_dim,attention_flag)\n",
    "\n",
    "#model = simpleLSTM(num_classes, input_size, hidden_size, num_layers)\n",
    "# model = Seq2Seq_model(input_dim, hidden_size,num_layers)\n",
    "criterion = torch.nn.MSELoss()    # mean-squared error\n",
    "optimizer = torch.optim.Adam(model.parameters(), lr=learning_rate)\n",
    "model"
   ]
  },
  {
   "cell_type": "code",
   "execution_count": 15,
   "id": "pharmaceutical-ballot",
   "metadata": {},
   "outputs": [
    {
     "name": "stderr",
     "output_type": "stream",
     "text": [
      "/usr/miniconda3/envs/nlu_cw2/lib/python3.7/site-packages/torch/nn/modules/loss.py:446: UserWarning: Using a target size (torch.Size([1, 64, 1])) that is different to the input size (torch.Size([64, 1])). This will likely lead to incorrect results due to broadcasting. Please ensure they have the same size.\n",
      "  return F.mse_loss(input, target, reduction=self.reduction)\n"
     ]
    },
    {
     "name": "stdout",
     "output_type": "stream",
     "text": [
      "Epoch: 0, train_loss: 0.01284,validate_loss: 0.02603\n",
      "Epoch: 1, train_loss: 0.00122,validate_loss: 0.00185\n",
      "Epoch: 2, train_loss: 0.00030,validate_loss: 0.00038\n",
      "Epoch: 3, train_loss: 0.00021,validate_loss: 0.00035\n",
      "Epoch: 4, train_loss: 0.00021,validate_loss: 0.00042\n",
      "Epoch: 5, train_loss: 0.00048,validate_loss: 0.00021\n",
      "Epoch: 6, train_loss: 0.00042,validate_loss: 0.00023\n",
      "Epoch: 7, train_loss: 0.00057,validate_loss: 0.00040\n",
      "Epoch: 8, train_loss: 0.00030,validate_loss: 0.00021\n",
      "Epoch: 9, train_loss: 0.00030,validate_loss: 0.00035\n",
      "Epoch: 10, train_loss: 0.00020,validate_loss: 0.00017\n",
      "Epoch: 11, train_loss: 0.00017,validate_loss: 0.00019\n",
      "Epoch: 12, train_loss: 0.00017,validate_loss: 0.00014\n",
      "Epoch: 13, train_loss: 0.00024,validate_loss: 0.00022\n",
      "Epoch: 14, train_loss: 0.00019,validate_loss: 0.00014\n",
      "Epoch: 15, train_loss: 0.00014,validate_loss: 0.00016\n",
      "Epoch: 16, train_loss: 0.00027,validate_loss: 0.00014\n",
      "Epoch: 17, train_loss: 0.00018,validate_loss: 0.00014\n",
      "Epoch: 18, train_loss: 0.00012,validate_loss: 0.00017\n",
      "Epoch: 19, train_loss: 0.00013,validate_loss: 0.00019\n",
      "Epoch: 20, train_loss: 0.00016,validate_loss: 0.00013\n",
      "Epoch: 21, train_loss: 0.00023,validate_loss: 0.00024\n",
      "Epoch: 22, train_loss: 0.00011,validate_loss: 0.00010\n",
      "Epoch: 23, train_loss: 0.00008,validate_loss: 0.00011\n",
      "Epoch: 24, train_loss: 0.00012,validate_loss: 0.00054\n",
      "Epoch: 25, train_loss: 0.00021,validate_loss: 0.00016\n",
      "Epoch: 26, train_loss: 0.00012,validate_loss: 0.00015\n",
      "Epoch: 27, train_loss: 0.00012,validate_loss: 0.00018\n",
      "Epoch: 28, train_loss: 0.00013,validate_loss: 0.00028\n",
      "Epoch: 29, train_loss: 0.00012,validate_loss: 0.00012\n",
      "Epoch: 30, train_loss: 0.00009,validate_loss: 0.00009\n",
      "Epoch: 31, train_loss: 0.00022,validate_loss: 0.00009\n",
      "Epoch: 32, train_loss: 0.00023,validate_loss: 0.00015\n",
      "Epoch: 33, train_loss: 0.00008,validate_loss: 0.00016\n",
      "Epoch: 34, train_loss: 0.00009,validate_loss: 0.00015\n",
      "Epoch: 35, train_loss: 0.00012,validate_loss: 0.00013\n",
      "Epoch: 36, train_loss: 0.00014,validate_loss: 0.00015\n",
      "Epoch: 37, train_loss: 0.00008,validate_loss: 0.00011\n",
      "Epoch: 38, train_loss: 0.00013,validate_loss: 0.00044\n",
      "Epoch: 39, train_loss: 0.00023,validate_loss: 0.00006\n",
      "Epoch: 40, train_loss: 0.00020,validate_loss: 0.00019\n",
      "Epoch: 41, train_loss: 0.00016,validate_loss: 0.00012\n",
      "Epoch: 42, train_loss: 0.00010,validate_loss: 0.00007\n",
      "Epoch: 43, train_loss: 0.00009,validate_loss: 0.00016\n",
      "Epoch: 44, train_loss: 0.00007,validate_loss: 0.00006\n",
      "Epoch: 45, train_loss: 0.00013,validate_loss: 0.00007\n",
      "Epoch: 46, train_loss: 0.00005,validate_loss: 0.00011\n",
      "Epoch: 47, train_loss: 0.00007,validate_loss: 0.00015\n",
      "Epoch: 48, train_loss: 0.00013,validate_loss: 0.00007\n",
      "Epoch: 49, train_loss: 0.00013,validate_loss: 0.00012\n",
      "Epoch: 50, train_loss: 0.00018,validate_loss: 0.00024\n",
      "Epoch: 51, train_loss: 0.00019,validate_loss: 0.00012\n",
      "Epoch: 52, train_loss: 0.00031,validate_loss: 0.00008\n",
      "Epoch: 53, train_loss: 0.00018,validate_loss: 0.00009\n",
      "Epoch: 54, train_loss: 0.00010,validate_loss: 0.00024\n",
      "Epoch: 55, train_loss: 0.00016,validate_loss: 0.00009\n",
      "Epoch: 56, train_loss: 0.00005,validate_loss: 0.00018\n",
      "Epoch: 57, train_loss: 0.00015,validate_loss: 0.00009\n",
      "Epoch: 58, train_loss: 0.00009,validate_loss: 0.00008\n",
      "Epoch: 59, train_loss: 0.00024,validate_loss: 0.00013\n",
      "Epoch: 60, train_loss: 0.00008,validate_loss: 0.00006\n",
      "Epoch: 61, train_loss: 0.00013,validate_loss: 0.00011\n",
      "Epoch: 62, train_loss: 0.00013,validate_loss: 0.00006\n",
      "Epoch: 63, train_loss: 0.00011,validate_loss: 0.00017\n",
      "Epoch: 64, train_loss: 0.00017,validate_loss: 0.00007\n",
      "Epoch: 65, train_loss: 0.00010,validate_loss: 0.00007\n",
      "Epoch: 66, train_loss: 0.00017,validate_loss: 0.00030\n",
      "Epoch: 67, train_loss: 0.00009,validate_loss: 0.00010\n",
      "Epoch: 68, train_loss: 0.00012,validate_loss: 0.00011\n",
      "Epoch: 69, train_loss: 0.00013,validate_loss: 0.00007\n",
      "Epoch: 70, train_loss: 0.00017,validate_loss: 0.00009\n",
      "Epoch: 71, train_loss: 0.00007,validate_loss: 0.00011\n",
      "Epoch: 72, train_loss: 0.00008,validate_loss: 0.00006\n",
      "Epoch: 73, train_loss: 0.00009,validate_loss: 0.00017\n",
      "Epoch: 74, train_loss: 0.00025,validate_loss: 0.00008\n",
      "Epoch: 75, train_loss: 0.00013,validate_loss: 0.00009\n",
      "Epoch: 76, train_loss: 0.00026,validate_loss: 0.00009\n",
      "Epoch: 77, train_loss: 0.00009,validate_loss: 0.00010\n",
      "Epoch: 78, train_loss: 0.00010,validate_loss: 0.00011\n",
      "Epoch: 79, train_loss: 0.00009,validate_loss: 0.00014\n",
      "Epoch: 80, train_loss: 0.00015,validate_loss: 0.00007\n",
      "Epoch: 81, train_loss: 0.00008,validate_loss: 0.00006\n",
      "Epoch: 82, train_loss: 0.00009,validate_loss: 0.00014\n",
      "Epoch: 83, train_loss: 0.00015,validate_loss: 0.00011\n",
      "Epoch: 84, train_loss: 0.00011,validate_loss: 0.00010\n",
      "Epoch: 85, train_loss: 0.00011,validate_loss: 0.00013\n",
      "Epoch: 86, train_loss: 0.00014,validate_loss: 0.00009\n",
      "Epoch: 87, train_loss: 0.00014,validate_loss: 0.00011\n",
      "Epoch: 88, train_loss: 0.00008,validate_loss: 0.00012\n",
      "Epoch: 89, train_loss: 0.00014,validate_loss: 0.00010\n",
      "Epoch: 90, train_loss: 0.00015,validate_loss: 0.00011\n",
      "Epoch: 91, train_loss: 0.00016,validate_loss: 0.00014\n",
      "Epoch: 92, train_loss: 0.00008,validate_loss: 0.00010\n",
      "Epoch: 93, train_loss: 0.00010,validate_loss: 0.00007\n",
      "Epoch: 94, train_loss: 0.00007,validate_loss: 0.00010\n",
      "Epoch: 95, train_loss: 0.00006,validate_loss: 0.00008\n",
      "Epoch: 96, train_loss: 0.00008,validate_loss: 0.00029\n",
      "Epoch: 97, train_loss: 0.00013,validate_loss: 0.00008\n",
      "Epoch: 98, train_loss: 0.00007,validate_loss: 0.00008\n",
      "Epoch: 99, train_loss: 0.00010,validate_loss: 0.00011\n"
     ]
    }
   ],
   "source": [
    "# Train the model\n",
    "for epoch in range(num_epochs):\n",
    "    for data in train_loader:\n",
    "        X_train,Y_train = data\n",
    "        Y_train = Y_train.unsqueeze(0)\n",
    "\n",
    "        model.train()\n",
    "        # decoder 的输入\n",
    "        decoder_input = torch.zeros(64,1,1).transpose(0,1)\n",
    "\n",
    "        #decoder_input = X_train[:,-1,:].unsqueeze(1)\n",
    "        train_pred = model(X_train.transpose(0,1), decoder_input)\n",
    "        \n",
    "        # obtain the loss function\n",
    "        train_loss = criterion(train_pred, Y_train)\n",
    "        train_loss.backward(retain_graph=True) #backpropagation\n",
    "        optimizer.step()\n",
    "        optimizer.zero_grad()\n",
    "\n",
    "        model.eval()\n",
    "        for valdiate_data in validate_loader:\n",
    "            X_validate,Y_validate = valdiate_data\n",
    "            #decoder_input = X_validate[:,-1,:].unsqueeze(1)\n",
    "            validate_pred =  model(X_validate.transpose(0,1),decoder_input)\n",
    "            validate_loss = criterion(validate_pred,Y_validate)\n",
    "\n",
    "    if epoch % 1 == 0:\n",
    "        print(\"Epoch: %d, train_loss: %1.5f,validate_loss: %1.5f\" % (epoch, train_loss,validate_loss))"
   ]
  },
  {
   "cell_type": "code",
   "execution_count": 16,
   "id": "centered-hardwood",
   "metadata": {},
   "outputs": [],
   "source": [
    "# save model\n",
    "save_path = 'models/{}_lstm_model.zip'.format(data_name)\n",
    "torch.save(model, save_path)"
   ]
  },
  {
   "cell_type": "markdown",
   "id": "white-greeting",
   "metadata": {},
   "source": [
    "# Plot"
   ]
  },
  {
   "cell_type": "code",
   "execution_count": 121,
   "id": "verified-rabbit",
   "metadata": {},
   "outputs": [
    {
     "name": "stdout",
     "output_type": "stream",
     "text": [
      "742\n"
     ]
    },
    {
     "data": {
      "image/png": "[encoded data removed]",
      "text/plain": [
       "<Figure size 720x144 with 1 Axes>"
      ]
     },
     "metadata": {
      "needs_background": "light"
     },
     "output_type": "display_data"
    },
    {
     "name": "stdout",
     "output_type": "stream",
     "text": [
      "X_test MSE: 15.055584907531738\n",
      "X_test MAE: 3.3361504077911377\n",
      "X_test MAPE:5.022406950592995%\n",
      "X_test RMSE: 3.880152702331543\n"
     ]
    }
   ],
   "source": [
    "# load model\n",
    "save_path = 'models/{}_lstm_model.zip'.format(data_name)\n",
    "model = torch.load(save_path)\n",
    "model.eval()\n",
    "train_predict = model(dataX.transpose(0,1),torch.zeros(1,dataX.size(0),1))\n",
    "#print(train_predict.size(),dataY.size())\n",
    "print(len(train_predict[0]))\n",
    "train_predict = train_predict.squeeze(0)\n",
    "data_predict = train_predict.data.numpy()\n",
    "\n",
    "dataY_plot = dataY.data.numpy()\n",
    "\n",
    "data_predict = scaler.inverse_transform(data_predict)\n",
    "dataY_plot = scaler.inverse_transform(dataY_plot)\n",
    "\n",
    "plt.figure(figsize=(10, 2))\n",
    "plt.axvline(x=train_size, c='r', linestyle='--')\n",
    "\n",
    "plt.plot(dataY_plot, label = data_name + ' ' + \"actual value\")\n",
    "plt.plot(data_predict, label = data_name + ' ' + \"predicted value\")\n",
    "plt.suptitle(data_name + ' ' + 'Forecasting')\n",
    "plt.legend()\n",
    "plt.show()\n",
    "\n",
    "from sklearn.metrics import mean_squared_error\n",
    "from sklearn.metrics import mean_absolute_error\n",
    "\n",
    "mse = mean_squared_error(dataY_plot[(train_size+validate_size):], data_predict[(train_size+validate_size):])   # 5500  \n",
    "mae = mean_absolute_error(dataY_plot[(train_size+validate_size):], data_predict[(train_size+validate_size):])\n",
    "mape = mean_absolute_percentage_error(dataY_plot[(train_size+validate_size):], data_predict[(train_size+validate_size):])*100\n",
    "# rmsle = np.sqrt(mean_squared_log_error(dataY_plot[(train_size+validate_size):], data_predict[(train_size+validate_size):]))\n",
    "rmse = np.sqrt(mse)\n",
    "\n",
    "print(f'X_test MSE: {mse}')\n",
    "print(f'X_test MAE: {mae}')\n",
    "print('X_test MAPE:{}%'.format(mape))\n",
    "# print(f'X_test RMSLE: {rmsle}')\n",
    "print(f'X_test RMSE: {rmse}')"
   ]
  },
  {
   "cell_type": "code",
   "execution_count": 122,
   "id": "professional-lodging",
   "metadata": {},
   "outputs": [
    {
     "data": {
      "image/png": "[encoded data removed]",
      "text/plain": [
       "<Figure size 720x144 with 1 Axes>"
      ]
     },
     "metadata": {
      "needs_background": "light"
     },
     "output_type": "display_data"
    }
   ],
   "source": [
    "plt.figure(figsize=(10, 2))\n",
    "plt.plot(dataY_plot[(train_size+validate_size):], label = data_name + ' ' + \"actual value\")\n",
    "plt.plot(data_predict[(train_size+validate_size):], label = data_name + ' ' + \"predicted value\")\n",
    "plt.suptitle(data_name + ' ' + 'Forecasting')\n",
    "plt.legend()\n",
    "plt.show()"
   ]
  },
  {
   "cell_type": "code",
   "execution_count": 123,
   "id": "associate-partnership",
   "metadata": {},
   "outputs": [],
   "source": [
    "result_start = train_len+seq_length+1\n",
    "final_result = ARIMA_Result['predicted'].loc[result_start:].values + data_predict.squeeze(1)"
   ]
  },
  {
   "cell_type": "code",
   "execution_count": 124,
   "id": "funky-beijing",
   "metadata": {},
   "outputs": [
    {
     "name": "stderr",
     "output_type": "stream",
     "text": [
      "/usr/miniconda3/envs/nlu_cw2/lib/python3.7/site-packages/ipykernel_launcher.py:2: SettingWithCopyWarning: \n",
      "A value is trying to be set on a copy of a slice from a DataFrame.\n",
      "Try using .loc[row_indexer,col_indexer] = value instead\n",
      "\n",
      "See the caveats in the documentation: https://pandas.pydata.org/pandas-docs/stable/user_guide/indexing.html#returning-a-view-versus-a-copy\n",
      "  \n"
     ]
    },
    {
     "data": {
      "image/png": "[encoded data removed]",
      "text/plain": [
       "<Figure size 720x144 with 1 Axes>"
      ]
     },
     "metadata": {
      "needs_background": "light"
     },
     "output_type": "display_data"
    }
   ],
   "source": [
    "df  = ARIMA_Test[result_start:]\n",
    "df['hybrid_result'] = final_result[train_len:]\n",
    "plt.figure(figsize=(10, 2))\n",
    "plt.title(\"Test part of Hybird ARIMA and LSTM model for {}\".format(data_name))\n",
    "df['close'].plot(x_compat=True, label = 'raw_data')\n",
    "plt.plot(df['hybrid_result'], label = 'Hybird_predicted result')\n",
    "plt.plot(preds[2*train_len:], label = \"ARIMA Predicted result\")\n",
    "plt.legend()\n",
    "plt.show()"
   ]
  },
  {
   "cell_type": "code",
   "execution_count": 125,
   "id": "burning-cleaning",
   "metadata": {},
   "outputs": [
    {
     "data": {
      "image/png": "[encoded data removed]",
      "text/plain": [
       "<Figure size 720x144 with 1 Axes>"
      ]
     },
     "metadata": {
      "needs_background": "light"
     },
     "output_type": "display_data"
    }
   ],
   "source": [
    "plt.figure(figsize=(10, 2))\n",
    "plt.title(\"Hybird ARIMA and LSTM model for {}\".format(data_name))\n",
    "plt.plot(preds_pd,label=\"ARIMA Predicted result\")\n",
    "plt.plot(raw_data.iloc[1:][\"close\"],label=\"raw data\")\n",
    "plt.plot(df['hybrid_result'], label = 'Hybird_predicted result')\n",
    "plt.axvline(x=2*train_len, c='r', linestyle='--')\n",
    "plt.axvline(x=train_len, c='b', linestyle='--')\n",
    "plt.ylabel(\"Stock Price\")\n",
    "plt.legend()\n",
    "plt.show()"
   ]
  },
  {
   "cell_type": "code",
   "execution_count": null,
   "id": "rising-pension",
   "metadata": {},
   "outputs": [],
   "source": []
  },
  {
   "cell_type": "code",
   "execution_count": null,
   "id": "judicial-village",
   "metadata": {},
   "outputs": [],
   "source": []
  }
 ],
 "metadata": {
  "kernelspec": {
   "display_name": "Python 3",
   "language": "python",
   "name": "python3"
  },
  "language_info": {
   "codemirror_mode": {
    "name": "ipython",
    "version": 3
   },
   "file_extension": ".py",
   "mimetype": "text/x-python",
   "name": "python",
   "nbconvert_exporter": "python",
   "pygments_lexer": "ipython3",
   "version": "3.7.9"
  }
 },
 "nbformat": 4,
 "nbformat_minor": 5
}
